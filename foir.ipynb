{
 "cells": [
  {
   "cell_type": "code",
   "execution_count": 1,
   "metadata": {},
   "outputs": [],
   "source": [
    "import pandas as pd\n",
    "import matplotlib.pyplot as plt\n",
    "%matplotlib inline\n",
    "\n",
    "import sys"
   ]
  },
  {
   "cell_type": "code",
   "execution_count": 28,
   "metadata": {},
   "outputs": [],
   "source": [
    "# Files are named the same way except they have different years, from 1999 t0 2016\n",
    "counter = 0\n",
    "df = {}    # Dataframe of dataframes\n",
    "for y in range(1999, 2017):\n",
    "    file = 'data/Freedom_of_Information_Requests__' + str(y) + '.csv'\n",
    "    df[counter] = pd.read_csv(file)\n",
    "    counter += 1\n",
    "\n",
    "\n"
   ]
  },
  {
   "cell_type": "code",
   "execution_count": 29,
   "metadata": {},
   "outputs": [
    {
     "data": {
      "text/plain": [
       "18"
      ]
     },
     "execution_count": 29,
     "metadata": {},
     "output_type": "execute_result"
    }
   ],
   "source": [
    "# Number of files read and turned into dataframes\n",
    "len(df)"
   ]
  },
  {
   "cell_type": "code",
   "execution_count": 30,
   "metadata": {},
   "outputs": [],
   "source": [
    "# Originally, index is set to zero. I want to to be set to '1'\n",
    "for y in range(0, 18):\n",
    "    #df[y].reset_index()\n",
    "    df[y].index+=1"
   ]
  },
  {
   "cell_type": "code",
   "execution_count": 31,
   "metadata": {},
   "outputs": [
    {
     "data": {
      "text/html": [
       "<div>\n",
       "<style scoped>\n",
       "    .dataframe tbody tr th:only-of-type {\n",
       "        vertical-align: middle;\n",
       "    }\n",
       "\n",
       "    .dataframe tbody tr th {\n",
       "        vertical-align: top;\n",
       "    }\n",
       "\n",
       "    .dataframe thead th {\n",
       "        text-align: right;\n",
       "    }\n",
       "</style>\n",
       "<table border=\"1\" class=\"dataframe\">\n",
       "  <thead>\n",
       "    <tr style=\"text-align: right;\">\n",
       "      <th></th>\n",
       "      <th>Request_Number</th>\n",
       "      <th>Request_Type</th>\n",
       "      <th>Source</th>\n",
       "      <th>Summary_of_Request</th>\n",
       "      <th>Decision</th>\n",
       "      <th>OBJECTID</th>\n",
       "    </tr>\n",
       "  </thead>\n",
       "  <tbody>\n",
       "    <tr>\n",
       "      <th>1</th>\n",
       "      <td>99001</td>\n",
       "      <td>General Information</td>\n",
       "      <td>Business</td>\n",
       "      <td>Minutes of Service Delivery Subcommittee of ES...</td>\n",
       "      <td>Partly exempted</td>\n",
       "      <td>0</td>\n",
       "    </tr>\n",
       "    <tr>\n",
       "      <th>2</th>\n",
       "      <td>99002</td>\n",
       "      <td>General Information</td>\n",
       "      <td>Business</td>\n",
       "      <td>Public Health inspection reports for the {loca...</td>\n",
       "      <td>All disclosed</td>\n",
       "      <td>1</td>\n",
       "    </tr>\n",
       "    <tr>\n",
       "      <th>3</th>\n",
       "      <td>99003</td>\n",
       "      <td>General Information</td>\n",
       "      <td>Business</td>\n",
       "      <td>Public Health inspection records for {location...</td>\n",
       "      <td>Partly exempted</td>\n",
       "      <td>2</td>\n",
       "    </tr>\n",
       "  </tbody>\n",
       "</table>\n",
       "</div>"
      ],
      "text/plain": [
       "   Request_Number         Request_Type    Source  \\\n",
       "1           99001  General Information  Business   \n",
       "2           99002  General Information  Business   \n",
       "3           99003  General Information  Business   \n",
       "\n",
       "                                  Summary_of_Request         Decision  \\\n",
       "1  Minutes of Service Delivery Subcommittee of ES...  Partly exempted   \n",
       "2  Public Health inspection reports for the {loca...    All disclosed   \n",
       "3  Public Health inspection records for {location...  Partly exempted   \n",
       "\n",
       "   OBJECTID  \n",
       "1         0  \n",
       "2         1  \n",
       "3         2  "
      ]
     },
     "execution_count": 31,
     "metadata": {},
     "output_type": "execute_result"
    }
   ],
   "source": [
    "df[0].head(3)"
   ]
  },
  {
   "cell_type": "code",
   "execution_count": 32,
   "metadata": {},
   "outputs": [
    {
     "name": "stdout",
     "output_type": "stream",
     "text": [
      "(27, 6)\n",
      "(19, 6)\n",
      "(25, 6)\n",
      "(20, 6)\n",
      "(24, 6)\n",
      "(22, 6)\n",
      "(22, 6)\n",
      "(23, 6)\n",
      "(24, 6)\n",
      "(30, 6)\n",
      "(39, 6)\n",
      "(29, 6)\n",
      "(43, 6)\n",
      "(41, 6)\n",
      "(33, 6)\n",
      "(30, 6)\n",
      "(43, 6)\n",
      "(82, 6)\n"
     ]
    }
   ],
   "source": [
    "# Want to know if they have the same number of columns\n",
    "for y in range(0, 18):\n",
    "    print(df[y].shape)"
   ]
  },
  {
   "cell_type": "code",
   "execution_count": 33,
   "metadata": {},
   "outputs": [
    {
     "data": {
      "text/plain": [
       "6"
      ]
     },
     "execution_count": 33,
     "metadata": {},
     "output_type": "execute_result"
    }
   ],
   "source": [
    "df[0].shape[1]"
   ]
  },
  {
   "cell_type": "code",
   "execution_count": 34,
   "metadata": {},
   "outputs": [
    {
     "name": "stdout",
     "output_type": "stream",
     "text": [
      "['Request_Number' 'Request_Type' 'Source' 'Summary_of_Request' 'Decision'\n",
      " 'OBJECTID']\n"
     ]
    },
    {
     "data": {
      "text/plain": [
       "'OBJECTID'"
      ]
     },
     "execution_count": 34,
     "metadata": {},
     "output_type": "execute_result"
    }
   ],
   "source": [
    "# How to get the name of the columns\n",
    "columnsNamesArr = df[0].columns.values\n",
    "print(columnsNamesArr)\n",
    "columnsNamesArr[5]"
   ]
  },
  {
   "cell_type": "code",
   "execution_count": 41,
   "metadata": {},
   "outputs": [
    {
     "name": "stdout",
     "output_type": "stream",
     "text": [
      "Request_Number\n",
      "Request_Number:\n"
     ]
    }
   ],
   "source": [
    "# Start an array with the names of the columns for all the 18 files.\n",
    "columnsNamesArr={}\n",
    "for y in range(0, 18):\n",
    "    columnsNamesArr[y] = df[y].columns.values\n",
    "\n",
    "print(columnsNamesArr[1][0])\n",
    "print(columnsNamesArr[15][0])\n",
    "    \n",
    "    "
   ]
  },
  {
   "cell_type": "code",
   "execution_count": 42,
   "metadata": {},
   "outputs": [],
   "source": [
    "# Find out if they have the same columns or not. Check with lower case, and strip spaces and colons\n",
    "for i in range(0, 17):\n",
    "    for j in range(0, df[0].shape[1]):\n",
    "        #print(i, j)\n",
    "        assert columnsNamesArr[i][j].lower().strip(' :') == columnsNamesArr[i+1][j].lower().strip(' :'), \\\n",
    "        \"Columns are different %s %s\" % (columnsNamesArr[i][j], columnsNamesArr[i+1][j]) \n",
    "        \n",
    "        \n",
    "        "
   ]
  },
  {
   "cell_type": "code",
   "execution_count": 43,
   "metadata": {},
   "outputs": [
    {
     "name": "stdout",
     "output_type": "stream",
     "text": [
      "0\n",
      "1\n",
      "2\n",
      "3\n",
      "4\n",
      "5\n"
     ]
    }
   ],
   "source": [
    "# Just checking the range is correct\n",
    "for j in range(0, df[0].shape[1]):\n",
    "    print(j)\n",
    "    \n",
    "    "
   ]
  },
  {
   "cell_type": "code",
   "execution_count": 44,
   "metadata": {},
   "outputs": [
    {
     "name": "stdout",
     "output_type": "stream",
     "text": [
      "Request_Number\n",
      "Request_Number Request_Number:\n"
     ]
    }
   ],
   "source": [
    "# Some columns have colons\n",
    "print(columnsNamesArr[1][0])\n",
    "print(columnsNamesArr[1][0], columnsNamesArr[15][0])"
   ]
  },
  {
   "cell_type": "code",
   "execution_count": 45,
   "metadata": {},
   "outputs": [
    {
     "name": "stdout",
     "output_type": "stream",
     "text": [
      "request_number request_number\n"
     ]
    }
   ],
   "source": [
    "# Just checking the statement above\n",
    "print(columnsNamesArr[1][0].lower().strip(' :'), columnsNamesArr[15][0].lower().strip(' :'))"
   ]
  },
  {
   "cell_type": "code",
   "execution_count": 46,
   "metadata": {},
   "outputs": [
    {
     "data": {
      "text/plain": [
       "'Request_Number'"
      ]
     },
     "execution_count": 46,
     "metadata": {},
     "output_type": "execute_result"
    }
   ],
   "source": [
    "df[0].columns.values[0]"
   ]
  },
  {
   "cell_type": "code",
   "execution_count": 47,
   "metadata": {},
   "outputs": [],
   "source": [
    "# Go directly to the dataframes and change the column names by stripping spaces and colons\n",
    "for i in range(0, 18):\n",
    "    for j in range(0, df[0].shape[1]):\n",
    "        df[i].columns.values[j] = df[i].columns.values[j].strip(' :')\n",
    "        "
   ]
  },
  {
   "cell_type": "code",
   "execution_count": 48,
   "metadata": {},
   "outputs": [
    {
     "name": "stdout",
     "output_type": "stream",
     "text": [
      "Request_Number\n",
      "Request_Number\n"
     ]
    }
   ],
   "source": [
    "# Check if it worked\n",
    "print(df[1].columns.values[0])\n",
    "print(df[15].columns.values[0])"
   ]
  },
  {
   "cell_type": "code",
   "execution_count": 55,
   "metadata": {},
   "outputs": [],
   "source": [
    "# Concatenate the dataframes into a single one\n",
    "adf = pd.concat(df, ignore_index = True)"
   ]
  },
  {
   "cell_type": "code",
   "execution_count": 56,
   "metadata": {},
   "outputs": [
    {
     "data": {
      "text/plain": [
       "(576, 6)"
      ]
     },
     "execution_count": 56,
     "metadata": {},
     "output_type": "execute_result"
    }
   ],
   "source": [
    "# Check shape\n",
    "adf.shape"
   ]
  },
  {
   "cell_type": "code",
   "execution_count": 57,
   "metadata": {},
   "outputs": [
    {
     "data": {
      "text/html": [
       "<div>\n",
       "<style scoped>\n",
       "    .dataframe tbody tr th:only-of-type {\n",
       "        vertical-align: middle;\n",
       "    }\n",
       "\n",
       "    .dataframe tbody tr th {\n",
       "        vertical-align: top;\n",
       "    }\n",
       "\n",
       "    .dataframe thead th {\n",
       "        text-align: right;\n",
       "    }\n",
       "</style>\n",
       "<table border=\"1\" class=\"dataframe\">\n",
       "  <thead>\n",
       "    <tr style=\"text-align: right;\">\n",
       "      <th></th>\n",
       "      <th>Request_Number</th>\n",
       "      <th>Request_Type</th>\n",
       "      <th>Source</th>\n",
       "      <th>Summary_of_Request</th>\n",
       "      <th>Decision</th>\n",
       "      <th>OBJECTID</th>\n",
       "    </tr>\n",
       "  </thead>\n",
       "  <tbody>\n",
       "    <tr>\n",
       "      <th>0</th>\n",
       "      <td>99001</td>\n",
       "      <td>General Information</td>\n",
       "      <td>Business</td>\n",
       "      <td>Minutes of Service Delivery Subcommittee of ES...</td>\n",
       "      <td>Partly exempted</td>\n",
       "      <td>0</td>\n",
       "    </tr>\n",
       "    <tr>\n",
       "      <th>1</th>\n",
       "      <td>99002</td>\n",
       "      <td>General Information</td>\n",
       "      <td>Business</td>\n",
       "      <td>Public Health inspection reports for the {loca...</td>\n",
       "      <td>All disclosed</td>\n",
       "      <td>1</td>\n",
       "    </tr>\n",
       "    <tr>\n",
       "      <th>2</th>\n",
       "      <td>99003</td>\n",
       "      <td>General Information</td>\n",
       "      <td>Business</td>\n",
       "      <td>Public Health inspection records for {location...</td>\n",
       "      <td>Partly exempted</td>\n",
       "      <td>2</td>\n",
       "    </tr>\n",
       "    <tr>\n",
       "      <th>3</th>\n",
       "      <td>99004</td>\n",
       "      <td>General Information</td>\n",
       "      <td>Public</td>\n",
       "      <td>Public Health inspection records for {address ...</td>\n",
       "      <td>All disclosed</td>\n",
       "      <td>3</td>\n",
       "    </tr>\n",
       "    <tr>\n",
       "      <th>4</th>\n",
       "      <td>99005</td>\n",
       "      <td>General Information</td>\n",
       "      <td>Business</td>\n",
       "      <td>Vendor list report with total of year-to-date ...</td>\n",
       "      <td>All disclosed</td>\n",
       "      <td>4</td>\n",
       "    </tr>\n",
       "    <tr>\n",
       "      <th>5</th>\n",
       "      <td>99006</td>\n",
       "      <td>Personal Information</td>\n",
       "      <td>Public</td>\n",
       "      <td>Public Health inspection file for {name remove...</td>\n",
       "      <td>All disclosed</td>\n",
       "      <td>5</td>\n",
       "    </tr>\n",
       "    <tr>\n",
       "      <th>6</th>\n",
       "      <td>99007</td>\n",
       "      <td>General Information</td>\n",
       "      <td>Public</td>\n",
       "      <td>Scope of work and deliverables sections of con...</td>\n",
       "      <td>All disclosed</td>\n",
       "      <td>6</td>\n",
       "    </tr>\n",
       "    <tr>\n",
       "      <th>7</th>\n",
       "      <td>99008</td>\n",
       "      <td>General Information</td>\n",
       "      <td>Public</td>\n",
       "      <td>Number of contracts and dollar amount of contr...</td>\n",
       "      <td>Withdrawn</td>\n",
       "      <td>7</td>\n",
       "    </tr>\n",
       "    <tr>\n",
       "      <th>8</th>\n",
       "      <td>99009</td>\n",
       "      <td>Personal Information</td>\n",
       "      <td>Public</td>\n",
       "      <td>Public Health inspection report regarding a co...</td>\n",
       "      <td>All disclosed</td>\n",
       "      <td>8</td>\n",
       "    </tr>\n",
       "    <tr>\n",
       "      <th>9</th>\n",
       "      <td>99010</td>\n",
       "      <td>General Information</td>\n",
       "      <td>Business</td>\n",
       "      <td>Phase I environmental site assessment regardin...</td>\n",
       "      <td>Withdrawn</td>\n",
       "      <td>9</td>\n",
       "    </tr>\n",
       "    <tr>\n",
       "      <th>10</th>\n",
       "      <td>99011</td>\n",
       "      <td>General Information</td>\n",
       "      <td>Business</td>\n",
       "      <td>Complete fiscal year end vendor report for yea...</td>\n",
       "      <td>Partly non-existent</td>\n",
       "      <td>10</td>\n",
       "    </tr>\n",
       "    <tr>\n",
       "      <th>11</th>\n",
       "      <td>99012</td>\n",
       "      <td>Personal Information</td>\n",
       "      <td>Public</td>\n",
       "      <td>A complete copy of Income Maintenance client f...</td>\n",
       "      <td>All disclosed</td>\n",
       "      <td>11</td>\n",
       "    </tr>\n",
       "    <tr>\n",
       "      <th>12</th>\n",
       "      <td>99013</td>\n",
       "      <td>General Information</td>\n",
       "      <td>Individual by Agent</td>\n",
       "      <td>Rabies control records related to dog bite aff...</td>\n",
       "      <td>Partly exempted</td>\n",
       "      <td>12</td>\n",
       "    </tr>\n",
       "    <tr>\n",
       "      <th>13</th>\n",
       "      <td>99014</td>\n",
       "      <td>Personal Information</td>\n",
       "      <td>Public</td>\n",
       "      <td>Home Child Care Provider file for {name remove...</td>\n",
       "      <td>Partly exempted</td>\n",
       "      <td>13</td>\n",
       "    </tr>\n",
       "    <tr>\n",
       "      <th>14</th>\n",
       "      <td>99015</td>\n",
       "      <td>General Information</td>\n",
       "      <td>Business</td>\n",
       "      <td>Records relating to complaint about {location ...</td>\n",
       "      <td>All disclosed</td>\n",
       "      <td>14</td>\n",
       "    </tr>\n",
       "    <tr>\n",
       "      <th>15</th>\n",
       "      <td>99016</td>\n",
       "      <td>Personal Information</td>\n",
       "      <td>Public</td>\n",
       "      <td>Financial records documenting {name removed} e...</td>\n",
       "      <td>All disclosed</td>\n",
       "      <td>15</td>\n",
       "    </tr>\n",
       "    <tr>\n",
       "      <th>16</th>\n",
       "      <td>99017</td>\n",
       "      <td>Personal Information</td>\n",
       "      <td>Public</td>\n",
       "      <td>Minutes and notes relating to {name removed} m...</td>\n",
       "      <td>Partly exempted</td>\n",
       "      <td>16</td>\n",
       "    </tr>\n",
       "    <tr>\n",
       "      <th>17</th>\n",
       "      <td>99018</td>\n",
       "      <td>General Information</td>\n",
       "      <td>Business by Agent</td>\n",
       "      <td>All files relating to tendering, construction,...</td>\n",
       "      <td>Withdrawn</td>\n",
       "      <td>17</td>\n",
       "    </tr>\n",
       "    <tr>\n",
       "      <th>18</th>\n",
       "      <td>99019</td>\n",
       "      <td>General Information</td>\n",
       "      <td>Public</td>\n",
       "      <td>List of all radio frequencies used by Region o...</td>\n",
       "      <td>Forwarded out</td>\n",
       "      <td>18</td>\n",
       "    </tr>\n",
       "    <tr>\n",
       "      <th>19</th>\n",
       "      <td>99020</td>\n",
       "      <td>General Information</td>\n",
       "      <td>Business</td>\n",
       "      <td>Copies of purchase orders for last 12 months i...</td>\n",
       "      <td>Withdrawn</td>\n",
       "      <td>19</td>\n",
       "    </tr>\n",
       "    <tr>\n",
       "      <th>20</th>\n",
       "      <td>99021</td>\n",
       "      <td>Personal Information</td>\n",
       "      <td>Public</td>\n",
       "      <td>{Name removed} personnel file for the period 1...</td>\n",
       "      <td>Withdrawn</td>\n",
       "      <td>20</td>\n",
       "    </tr>\n",
       "    <tr>\n",
       "      <th>21</th>\n",
       "      <td>99022</td>\n",
       "      <td>Personal Information</td>\n",
       "      <td>Public</td>\n",
       "      <td>Complaint dated November 1, 1999 in {name remo...</td>\n",
       "      <td>Partly exempted</td>\n",
       "      <td>21</td>\n",
       "    </tr>\n",
       "    <tr>\n",
       "      <th>22</th>\n",
       "      <td>99023</td>\n",
       "      <td>General Information</td>\n",
       "      <td>Business</td>\n",
       "      <td>All reports, studies and documents pertaining ...</td>\n",
       "      <td>No record exists</td>\n",
       "      <td>22</td>\n",
       "    </tr>\n",
       "    <tr>\n",
       "      <th>23</th>\n",
       "      <td>99024</td>\n",
       "      <td>Personal Information</td>\n",
       "      <td>Public</td>\n",
       "      <td>Home Child Care Provider file for {name remove...</td>\n",
       "      <td>Partly exempted</td>\n",
       "      <td>23</td>\n",
       "    </tr>\n",
       "    <tr>\n",
       "      <th>24</th>\n",
       "      <td>99025</td>\n",
       "      <td>General Information</td>\n",
       "      <td>Individual by Agent</td>\n",
       "      <td>By-Law officer's notes regarding charges again...</td>\n",
       "      <td>No record exists</td>\n",
       "      <td>24</td>\n",
       "    </tr>\n",
       "    <tr>\n",
       "      <th>25</th>\n",
       "      <td>99026</td>\n",
       "      <td>General Information</td>\n",
       "      <td>Public</td>\n",
       "      <td>List of all taxi license owners in the City of...</td>\n",
       "      <td>Nothing disclosed</td>\n",
       "      <td>25</td>\n",
       "    </tr>\n",
       "    <tr>\n",
       "      <th>26</th>\n",
       "      <td>99027</td>\n",
       "      <td>Personal Information</td>\n",
       "      <td>Public</td>\n",
       "      <td>Complaint regarding alleged fraud accusation m...</td>\n",
       "      <td>Withdrawn</td>\n",
       "      <td>26</td>\n",
       "    </tr>\n",
       "    <tr>\n",
       "      <th>27</th>\n",
       "      <td>2000001</td>\n",
       "      <td>General Information</td>\n",
       "      <td>Business by Agent</td>\n",
       "      <td>Correspondence from 1996 to 1997 regarding Sha...</td>\n",
       "      <td>Withdrawn</td>\n",
       "      <td>0</td>\n",
       "    </tr>\n",
       "    <tr>\n",
       "      <th>28</th>\n",
       "      <td>2000002</td>\n",
       "      <td>General Information</td>\n",
       "      <td>Business</td>\n",
       "      <td>Quotation Q99-1154 bidders and pricing informa...</td>\n",
       "      <td>Withdrawn</td>\n",
       "      <td>1</td>\n",
       "    </tr>\n",
       "  </tbody>\n",
       "</table>\n",
       "</div>"
      ],
      "text/plain": [
       "    Request_Number          Request_Type               Source  \\\n",
       "0            99001   General Information             Business   \n",
       "1            99002   General Information             Business   \n",
       "2            99003   General Information             Business   \n",
       "3            99004   General Information               Public   \n",
       "4            99005   General Information             Business   \n",
       "5            99006  Personal Information               Public   \n",
       "6            99007   General Information               Public   \n",
       "7            99008   General Information               Public   \n",
       "8            99009  Personal Information               Public   \n",
       "9            99010   General Information             Business   \n",
       "10           99011   General Information             Business   \n",
       "11           99012  Personal Information               Public   \n",
       "12           99013   General Information  Individual by Agent   \n",
       "13           99014  Personal Information               Public   \n",
       "14           99015   General Information             Business   \n",
       "15           99016  Personal Information               Public   \n",
       "16           99017  Personal Information               Public   \n",
       "17           99018   General Information    Business by Agent   \n",
       "18           99019   General Information               Public   \n",
       "19           99020   General Information             Business   \n",
       "20           99021  Personal Information               Public   \n",
       "21           99022  Personal Information               Public   \n",
       "22           99023   General Information             Business   \n",
       "23           99024  Personal Information               Public   \n",
       "24           99025   General Information  Individual by Agent   \n",
       "25           99026   General Information               Public   \n",
       "26           99027  Personal Information               Public   \n",
       "27         2000001   General Information    Business by Agent   \n",
       "28         2000002   General Information           Business     \n",
       "\n",
       "                                   Summary_of_Request             Decision  \\\n",
       "0   Minutes of Service Delivery Subcommittee of ES...      Partly exempted   \n",
       "1   Public Health inspection reports for the {loca...        All disclosed   \n",
       "2   Public Health inspection records for {location...      Partly exempted   \n",
       "3   Public Health inspection records for {address ...        All disclosed   \n",
       "4   Vendor list report with total of year-to-date ...        All disclosed   \n",
       "5   Public Health inspection file for {name remove...        All disclosed   \n",
       "6   Scope of work and deliverables sections of con...        All disclosed   \n",
       "7   Number of contracts and dollar amount of contr...            Withdrawn   \n",
       "8   Public Health inspection report regarding a co...        All disclosed   \n",
       "9   Phase I environmental site assessment regardin...            Withdrawn   \n",
       "10  Complete fiscal year end vendor report for yea...  Partly non-existent   \n",
       "11  A complete copy of Income Maintenance client f...        All disclosed   \n",
       "12  Rabies control records related to dog bite aff...      Partly exempted   \n",
       "13  Home Child Care Provider file for {name remove...      Partly exempted   \n",
       "14  Records relating to complaint about {location ...        All disclosed   \n",
       "15  Financial records documenting {name removed} e...        All disclosed   \n",
       "16  Minutes and notes relating to {name removed} m...      Partly exempted   \n",
       "17  All files relating to tendering, construction,...            Withdrawn   \n",
       "18  List of all radio frequencies used by Region o...        Forwarded out   \n",
       "19  Copies of purchase orders for last 12 months i...            Withdrawn   \n",
       "20  {Name removed} personnel file for the period 1...            Withdrawn   \n",
       "21  Complaint dated November 1, 1999 in {name remo...      Partly exempted   \n",
       "22  All reports, studies and documents pertaining ...     No record exists   \n",
       "23  Home Child Care Provider file for {name remove...      Partly exempted   \n",
       "24  By-Law officer's notes regarding charges again...     No record exists   \n",
       "25  List of all taxi license owners in the City of...    Nothing disclosed   \n",
       "26  Complaint regarding alleged fraud accusation m...            Withdrawn   \n",
       "27  Correspondence from 1996 to 1997 regarding Sha...            Withdrawn   \n",
       "28  Quotation Q99-1154 bidders and pricing informa...            Withdrawn   \n",
       "\n",
       "    OBJECTID  \n",
       "0          0  \n",
       "1          1  \n",
       "2          2  \n",
       "3          3  \n",
       "4          4  \n",
       "5          5  \n",
       "6          6  \n",
       "7          7  \n",
       "8          8  \n",
       "9          9  \n",
       "10        10  \n",
       "11        11  \n",
       "12        12  \n",
       "13        13  \n",
       "14        14  \n",
       "15        15  \n",
       "16        16  \n",
       "17        17  \n",
       "18        18  \n",
       "19        19  \n",
       "20        20  \n",
       "21        21  \n",
       "22        22  \n",
       "23        23  \n",
       "24        24  \n",
       "25        25  \n",
       "26        26  \n",
       "27         0  \n",
       "28         1  "
      ]
     },
     "execution_count": 57,
     "metadata": {},
     "output_type": "execute_result"
    }
   ],
   "source": [
    "adf.head(29)"
   ]
  },
  {
   "cell_type": "code",
   "execution_count": 62,
   "metadata": {},
   "outputs": [
    {
     "name": "stdout",
     "output_type": "stream",
     "text": [
      "<class 'pandas.core.frame.DataFrame'>\n",
      "RangeIndex: 576 entries, 0 to 575\n",
      "Data columns (total 6 columns):\n",
      "Request_Number        576 non-null int64\n",
      "Request_Type          576 non-null object\n",
      "Source                576 non-null object\n",
      "Summary_of_Request    576 non-null object\n",
      "Decision              576 non-null object\n",
      "OBJECTID              576 non-null int64\n",
      "dtypes: int64(2), object(4)\n",
      "memory usage: 27.1+ KB\n"
     ]
    }
   ],
   "source": [
    "adf.info()"
   ]
  },
  {
   "cell_type": "code",
   "execution_count": 75,
   "metadata": {},
   "outputs": [
    {
     "data": {
      "text/plain": [
       "array(['General Information', 'Personal Information', 'Correction',\n",
       "       'Personal Information/General Information',\n",
       "       'Personal Health Information/General Information',\n",
       "       'Personal Health Information',\n",
       "       'Personal Health Information/General Informaiton',\n",
       "       'General Records', 'Personal', 'General'], dtype=object)"
      ]
     },
     "execution_count": 75,
     "metadata": {},
     "output_type": "execute_result"
    }
   ],
   "source": [
    "adf.Request_Type.unique()"
   ]
  },
  {
   "cell_type": "code",
   "execution_count": 84,
   "metadata": {},
   "outputs": [
    {
     "name": "stdout",
     "output_type": "stream",
     "text": [
      "10\n"
     ]
    },
    {
     "data": {
      "text/plain": [
       "General Information                                283\n",
       "Personal Information                               110\n",
       "General                                             76\n",
       "Personal                                            47\n",
       "General Records                                     36\n",
       "Personal Health Information/General Information     16\n",
       "Personal Health Information                          3\n",
       "Correction                                           2\n",
       "Personal Information/General Information             2\n",
       "Personal Health Information/General Informaiton      1\n",
       "Name: Request_Type, dtype: int64"
      ]
     },
     "execution_count": 84,
     "metadata": {},
     "output_type": "execute_result"
    }
   ],
   "source": [
    "adf['Request_Type'] = adf['Request_Type'].str.strip()\n",
    "print(adf.Request_Type.nunique())\n",
    "adf.Request_Type.value_counts()"
   ]
  },
  {
   "cell_type": "code",
   "execution_count": 85,
   "metadata": {},
   "outputs": [
    {
     "name": "stdout",
     "output_type": "stream",
     "text": [
      "8\n"
     ]
    },
    {
     "data": {
      "text/plain": [
       "Business                    198\n",
       "Public                      132\n",
       "Individual by Agent         107\n",
       "Individual by agent          59\n",
       "Individual                   40\n",
       "Media                        20\n",
       "Business by Agent            19\n",
       "Individual for dependant      1\n",
       "Name: Source, dtype: int64"
      ]
     },
     "execution_count": 85,
     "metadata": {},
     "output_type": "execute_result"
    }
   ],
   "source": [
    "adf['Source'] = adf['Source'].str.strip()\n",
    "print(adf.Source.nunique())\n",
    "adf.Source.value_counts()"
   ]
  },
  {
   "cell_type": "code",
   "execution_count": 86,
   "metadata": {},
   "outputs": [
    {
     "name": "stdout",
     "output_type": "stream",
     "text": [
      "21\n"
     ]
    },
    {
     "data": {
      "text/plain": [
       "All disclosed                                      160\n",
       "Partly exempted                                    102\n",
       "Withdrawn                                           79\n",
       "No records exist                                    51\n",
       "Information disclosed in part                       50\n",
       "Partly non-existent                                 23\n",
       "Nothing disclosed                                   20\n",
       "All Information disclosed                           16\n",
       "No record exists                                    15\n",
       "Abandoned                                           13\n",
       "All information disclosed                           13\n",
       "Forwarded out                                       12\n",
       "No responsive records exist                         11\n",
       "Non-existent                                         3\n",
       "Transferred to Region of Waterloo Public Health      2\n",
       "Correction refused                                   1\n",
       "No additional records exist                          1\n",
       "Correction granted                                   1\n",
       "Transferred                                          1\n",
       "No information disclosed                             1\n",
       "Request withdrawn                                    1\n",
       "Name: Decision, dtype: int64"
      ]
     },
     "execution_count": 86,
     "metadata": {},
     "output_type": "execute_result"
    }
   ],
   "source": [
    "adf['Decision'] = adf['Decision'].str.strip()\n",
    "print(adf.Decision.nunique())\n",
    "adf.Decision.value_counts()"
   ]
  },
  {
   "cell_type": "code",
   "execution_count": 87,
   "metadata": {},
   "outputs": [],
   "source": [
    "adf['Request_Type'] = adf['Request_Type'].str.replace('Informaiton','Information')"
   ]
  },
  {
   "cell_type": "code",
   "execution_count": 91,
   "metadata": {},
   "outputs": [
    {
     "name": "stdout",
     "output_type": "stream",
     "text": [
      "9\n"
     ]
    },
    {
     "data": {
      "text/plain": [
       "General Information                                283\n",
       "Personal Information                               110\n",
       "General                                             76\n",
       "Personal                                            47\n",
       "General Records                                     36\n",
       "Personal Health Information/General Information     17\n",
       "Personal Health Information                          3\n",
       "Correction                                           2\n",
       "Personal Information/General Information             2\n",
       "Name: Request_Type, dtype: int64"
      ]
     },
     "execution_count": 91,
     "metadata": {},
     "output_type": "execute_result"
    }
   ],
   "source": [
    "print(adf.Request_Type.nunique())\n",
    "adf.Request_Type.value_counts()"
   ]
  },
  {
   "cell_type": "code",
   "execution_count": 92,
   "metadata": {},
   "outputs": [],
   "source": [
    "adf['Source'] = adf['Source'].str.replace('Individual by agent','Individual by Agent')"
   ]
  },
  {
   "cell_type": "code",
   "execution_count": 93,
   "metadata": {},
   "outputs": [
    {
     "name": "stdout",
     "output_type": "stream",
     "text": [
      "7\n"
     ]
    },
    {
     "data": {
      "text/plain": [
       "Business                    198\n",
       "Individual by Agent         166\n",
       "Public                      132\n",
       "Individual                   40\n",
       "Media                        20\n",
       "Business by Agent            19\n",
       "Individual for dependant      1\n",
       "Name: Source, dtype: int64"
      ]
     },
     "execution_count": 93,
     "metadata": {},
     "output_type": "execute_result"
    }
   ],
   "source": [
    "print(adf.Source.nunique())\n",
    "adf.Source.value_counts()"
   ]
  },
  {
   "cell_type": "code",
   "execution_count": 94,
   "metadata": {},
   "outputs": [],
   "source": [
    "adf['Decision'] = adf['Decision'].str.replace('Nothing disclosed','No information disclosed')"
   ]
  },
  {
   "cell_type": "code",
   "execution_count": 99,
   "metadata": {},
   "outputs": [],
   "source": [
    "adf['Decision'] = adf['Decision'].str.replace('All disclosed','All information disclosed')"
   ]
  },
  {
   "cell_type": "code",
   "execution_count": 100,
   "metadata": {},
   "outputs": [],
   "source": [
    "adf['Decision'] = adf['Decision'].str.replace('All Information disclosed','All information disclosed')"
   ]
  },
  {
   "cell_type": "code",
   "execution_count": 96,
   "metadata": {},
   "outputs": [],
   "source": [
    "adf['Decision'] = adf['Decision'].str.replace('No record exists','No records exist')"
   ]
  },
  {
   "cell_type": "code",
   "execution_count": 97,
   "metadata": {},
   "outputs": [],
   "source": [
    "adf['Decision'] = adf['Decision'].str.replace('Withdrawn','Request withdrawn')"
   ]
  },
  {
   "cell_type": "code",
   "execution_count": 101,
   "metadata": {},
   "outputs": [
    {
     "name": "stdout",
     "output_type": "stream",
     "text": [
      "16\n"
     ]
    },
    {
     "data": {
      "text/plain": [
       "All information disclosed                          189\n",
       "Partly exempted                                    102\n",
       "Request withdrawn                                   80\n",
       "No records exist                                    66\n",
       "Information disclosed in part                       50\n",
       "Partly non-existent                                 23\n",
       "No information disclosed                            21\n",
       "Abandoned                                           13\n",
       "Forwarded out                                       12\n",
       "No responsive records exist                         11\n",
       "Non-existent                                         3\n",
       "Transferred to Region of Waterloo Public Health      2\n",
       "Transferred                                          1\n",
       "Correction granted                                   1\n",
       "Correction refused                                   1\n",
       "No additional records exist                          1\n",
       "Name: Decision, dtype: int64"
      ]
     },
     "execution_count": 101,
     "metadata": {},
     "output_type": "execute_result"
    }
   ],
   "source": [
    "print(adf.Decision.nunique())\n",
    "adf.Decision.value_counts()"
   ]
  },
  {
   "cell_type": "code",
   "execution_count": null,
   "metadata": {},
   "outputs": [],
   "source": [
    "# Check Source: is Public == Individual?\n",
    "# Check Decision: no responsive records exist == Non-existent == no records exist ?\n",
    "#                 no additional records exist == partly non-existent ?\n",
    "# Check Request_Type: General Information == General == General Records\n",
    "#                    Personal Information == Personal"
   ]
  }
 ],
 "metadata": {
  "kernelspec": {
   "display_name": "Python 3",
   "language": "python",
   "name": "python3"
  },
  "language_info": {
   "codemirror_mode": {
    "name": "ipython",
    "version": 3
   },
   "file_extension": ".py",
   "mimetype": "text/x-python",
   "name": "python",
   "nbconvert_exporter": "python",
   "pygments_lexer": "ipython3",
   "version": "3.5.6"
  }
 },
 "nbformat": 4,
 "nbformat_minor": 2
}
